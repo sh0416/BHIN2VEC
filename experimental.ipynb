{
 "cells": [
  {
   "cell_type": "code",
   "execution_count": 79,
   "metadata": {},
   "outputs": [],
   "source": [
    "import os\n",
    "import pickle\n",
    "from math import exp\n",
    "from collections import deque, defaultdict\n",
    "\n",
    "import numpy as np\n",
    "import pandas as pd\n",
    "import networkx as nx\n",
    "import scipy.sparse as sp\n",
    "import matplotlib.pyplot as plt\n",
    "\n",
    "import torch\n",
    "import torch.nn as nn\n",
    "import torch.optim as optim"
   ]
  },
  {
   "cell_type": "code",
   "execution_count": 76,
   "metadata": {},
   "outputs": [],
   "source": [
    "def rndm(a, b, g, size=1):\n",
    "    \"\"\"Power-law gen for pdf(x) \\propto x^{g-1} for a<=x<=b\"\"\"\n",
    "    r = np.random.random(size=size)\n",
    "    ag, bg = a**g, b**g\n",
    "    return (ag + (bg - ag)*r)**(1./g)"
   ]
  },
  {
   "cell_type": "code",
   "execution_count": 77,
   "metadata": {},
   "outputs": [
    {
     "data": {
      "text/plain": [
       "array([1.53113, 1.43309, 1.29491, 1.26022, 1.27865, 1.13741, 1.00198,\n",
       "       1.32856, 1.17462, 1.40154])"
      ]
     },
     "execution_count": 77,
     "metadata": {},
     "output_type": "execute_result"
    }
   ],
   "source": [
    "rndm(1, 2, g=-2, size=10)"
   ]
  },
  {
   "cell_type": "code",
   "execution_count": 78,
   "metadata": {},
   "outputs": [],
   "source": [
    "def pdf(x, a, b, g):\n",
    "    ag, bg = a**g, b**g\n",
    "    return g * x**(g-1) / (bg-ag)"
   ]
  },
  {
   "cell_type": "code",
   "execution_count": 84,
   "metadata": {},
   "outputs": [
    {
     "data": {
      "text/plain": [
       "[0.3333333333333333,\n",
       " 0.2,\n",
       " 0.14285714285714285,\n",
       " 0.1111111111111111,\n",
       " 0.09090909090909091,\n",
       " 0.07692307692307693,\n",
       " 0.06666666666666667,\n",
       " 0.058823529411764705,\n",
       " 0.05263157894736842,\n",
       " 0.047619047619047616,\n",
       " 0.043478260869565216,\n",
       " 0.04,\n",
       " 0.037037037037037035,\n",
       " 0.034482758620689655,\n",
       " 0.03225806451612903,\n",
       " 0.030303030303030304,\n",
       " 0.02857142857142857,\n",
       " 0.02702702702702703,\n",
       " 0.02564102564102564,\n",
       " 0.024390243902439025,\n",
       " 0.023255813953488372,\n",
       " 0.022222222222222223,\n",
       " 0.02127659574468085,\n",
       " 0.02040816326530612,\n",
       " 0.0196078431372549,\n",
       " 0.018867924528301886,\n",
       " 0.01818181818181818,\n",
       " 0.017543859649122806,\n",
       " 0.01694915254237288,\n",
       " 0.01639344262295082,\n",
       " 0.015873015873015872,\n",
       " 0.015384615384615385,\n",
       " 0.014925373134328358,\n",
       " 0.014492753623188406,\n",
       " 0.014084507042253521,\n",
       " 0.0136986301369863,\n",
       " 0.013333333333333334,\n",
       " 0.012987012987012988,\n",
       " 0.012658227848101266,\n",
       " 0.012345679012345678,\n",
       " 0.012048192771084338,\n",
       " 0.011764705882352941,\n",
       " 0.011494252873563218,\n",
       " 0.011235955056179775,\n",
       " 0.01098901098901099,\n",
       " 0.010752688172043012,\n",
       " 0.010526315789473684,\n",
       " 0.010309278350515464,\n",
       " 0.010101010101010102,\n",
       " 0.009900990099009901,\n",
       " 0.009708737864077669,\n",
       " 0.009523809523809525,\n",
       " 0.009345794392523364,\n",
       " 0.009174311926605505,\n",
       " 0.009009009009009009,\n",
       " 0.008849557522123894,\n",
       " 0.008695652173913044,\n",
       " 0.008547008547008548,\n",
       " 0.008403361344537815,\n",
       " 0.008264462809917356,\n",
       " 0.008130081300813009,\n",
       " 0.008,\n",
       " 0.007874015748031496,\n",
       " 0.007751937984496124,\n",
       " 0.007633587786259542,\n",
       " 0.007518796992481203,\n",
       " 0.007407407407407408,\n",
       " 0.0072992700729927005,\n",
       " 0.007194244604316547,\n",
       " 0.0070921985815602835,\n",
       " 0.006993006993006993,\n",
       " 0.006896551724137931,\n",
       " 0.006802721088435374,\n",
       " 0.006711409395973154,\n",
       " 0.006622516556291391,\n",
       " 0.006535947712418301,\n",
       " 0.0064516129032258064,\n",
       " 0.006369426751592357,\n",
       " 0.006289308176100629,\n",
       " 0.006211180124223602,\n",
       " 0.006134969325153374,\n",
       " 0.006060606060606061,\n",
       " 0.005988023952095809,\n",
       " 0.005917159763313609,\n",
       " 0.005847953216374269,\n",
       " 0.005780346820809248,\n",
       " 0.005714285714285714,\n",
       " 0.005649717514124294,\n",
       " 0.00558659217877095,\n",
       " 0.0055248618784530384,\n",
       " 0.00546448087431694,\n",
       " 0.005405405405405406,\n",
       " 0.0053475935828877,\n",
       " 0.005291005291005291,\n",
       " 0.005235602094240838,\n",
       " 0.0051813471502590676,\n",
       " 0.005128205128205128,\n",
       " 0.005076142131979695,\n",
       " 0.005025125628140704]"
      ]
     },
     "execution_count": 84,
     "metadata": {},
     "output_type": "execute_result"
    }
   ],
   "source": [
    "[pdf(0.5, x, x+1, 2) for x in range(1, 100)]"
   ]
  },
  {
   "cell_type": "code",
   "execution_count": 71,
   "metadata": {},
   "outputs": [],
   "source": [
    "graph = nx.bipartite.random_graph(10, 100, p=0.6)"
   ]
  },
  {
   "cell_type": "code",
   "execution_count": 75,
   "metadata": {},
   "outputs": [
    {
     "data": {
      "text/plain": [
       "NodeView((0, 1, 2, 3, 4, 5, 6, 7, 8, 9, 10, 11, 12, 13, 14, 15, 16, 17, 18, 19, 20, 21, 22, 23, 24, 25, 26, 27, 28, 29, 30, 31, 32, 33, 34, 35, 36, 37, 38, 39, 40, 41, 42, 43, 44, 45, 46, 47, 48, 49, 50, 51, 52, 53, 54, 55, 56, 57, 58, 59, 60, 61, 62, 63, 64, 65, 66, 67, 68, 69, 70, 71, 72, 73, 74, 75, 76, 77, 78, 79, 80, 81, 82, 83, 84, 85, 86, 87, 88, 89, 90, 91, 92, 93, 94, 95, 96, 97, 98, 99, 100, 101, 102, 103, 104, 105, 106, 107, 108, 109))"
      ]
     },
     "execution_count": 75,
     "metadata": {},
     "output_type": "execute_result"
    }
   ],
   "source": [
    "graph.nodes"
   ]
  },
  {
   "cell_type": "code",
   "execution_count": 74,
   "metadata": {},
   "outputs": [
    {
     "ename": "AttributeError",
     "evalue": "'Graph' object has no attribute 'sets'",
     "output_type": "error",
     "traceback": [
      "\u001b[0;31m---------------------------------------------------------------------------\u001b[0m",
      "\u001b[0;31mAttributeError\u001b[0m                            Traceback (most recent call last)",
      "\u001b[0;32m<ipython-input-74-1fdc1a805e93>\u001b[0m in \u001b[0;36m<module>\u001b[0;34m()\u001b[0m\n\u001b[0;32m----> 1\u001b[0;31m \u001b[0mX\u001b[0m\u001b[0;34m,\u001b[0m \u001b[0mY\u001b[0m \u001b[0;34m=\u001b[0m \u001b[0mgraph\u001b[0m\u001b[0;34m.\u001b[0m\u001b[0msets\u001b[0m\u001b[0;34m(\u001b[0m\u001b[0mB\u001b[0m\u001b[0;34m)\u001b[0m\u001b[0;34m\u001b[0m\u001b[0;34m\u001b[0m\u001b[0m\n\u001b[0m\u001b[1;32m      2\u001b[0m \u001b[0mpos\u001b[0m \u001b[0;34m=\u001b[0m \u001b[0mdict\u001b[0m\u001b[0;34m(\u001b[0m\u001b[0;34m)\u001b[0m\u001b[0;34m\u001b[0m\u001b[0;34m\u001b[0m\u001b[0m\n\u001b[1;32m      3\u001b[0m \u001b[0mpos\u001b[0m\u001b[0;34m.\u001b[0m\u001b[0mupdate\u001b[0m\u001b[0;34m(\u001b[0m \u001b[0;34m(\u001b[0m\u001b[0mn\u001b[0m\u001b[0;34m,\u001b[0m \u001b[0;34m(\u001b[0m\u001b[0;36m1\u001b[0m\u001b[0;34m,\u001b[0m \u001b[0mi\u001b[0m\u001b[0;34m)\u001b[0m\u001b[0;34m)\u001b[0m \u001b[0;32mfor\u001b[0m \u001b[0mi\u001b[0m\u001b[0;34m,\u001b[0m \u001b[0mn\u001b[0m \u001b[0;32min\u001b[0m \u001b[0menumerate\u001b[0m\u001b[0;34m(\u001b[0m\u001b[0mX\u001b[0m\u001b[0;34m)\u001b[0m \u001b[0;34m)\u001b[0m \u001b[0;31m# put nodes from X at x=1\u001b[0m\u001b[0;34m\u001b[0m\u001b[0;34m\u001b[0m\u001b[0m\n\u001b[1;32m      4\u001b[0m \u001b[0mpos\u001b[0m\u001b[0;34m.\u001b[0m\u001b[0mupdate\u001b[0m\u001b[0;34m(\u001b[0m \u001b[0;34m(\u001b[0m\u001b[0mn\u001b[0m\u001b[0;34m,\u001b[0m \u001b[0;34m(\u001b[0m\u001b[0;36m2\u001b[0m\u001b[0;34m,\u001b[0m \u001b[0mi\u001b[0m\u001b[0;34m)\u001b[0m\u001b[0;34m)\u001b[0m \u001b[0;32mfor\u001b[0m \u001b[0mi\u001b[0m\u001b[0;34m,\u001b[0m \u001b[0mn\u001b[0m \u001b[0;32min\u001b[0m \u001b[0menumerate\u001b[0m\u001b[0;34m(\u001b[0m\u001b[0mY\u001b[0m\u001b[0;34m)\u001b[0m \u001b[0;34m)\u001b[0m \u001b[0;31m# put nodes from Y at x=2\u001b[0m\u001b[0;34m\u001b[0m\u001b[0;34m\u001b[0m\u001b[0m\n\u001b[1;32m      5\u001b[0m \u001b[0mnx\u001b[0m\u001b[0;34m.\u001b[0m\u001b[0mdraw\u001b[0m\u001b[0;34m(\u001b[0m\u001b[0mB\u001b[0m\u001b[0;34m,\u001b[0m \u001b[0mpos\u001b[0m\u001b[0;34m=\u001b[0m\u001b[0mpos\u001b[0m\u001b[0;34m)\u001b[0m\u001b[0;34m\u001b[0m\u001b[0;34m\u001b[0m\u001b[0m\n",
      "\u001b[0;31mAttributeError\u001b[0m: 'Graph' object has no attribute 'sets'"
     ]
    }
   ],
   "source": [
    "X, Y = graph.sets(B)\n",
    "pos = dict()\n",
    "pos.update( (n, (1, i)) for i, n in enumerate(X) ) # put nodes from X at x=1\n",
    "pos.update( (n, (2, i)) for i, n in enumerate(Y) ) # put nodes from Y at x=2\n",
    "nx.draw(B, pos=pos)\n",
    "plt.show()"
   ]
  },
  {
   "cell_type": "code",
   "execution_count": 29,
   "metadata": {},
   "outputs": [],
   "source": [
    "np.set_printoptions(precision=5)"
   ]
  },
  {
   "cell_type": "markdown",
   "metadata": {},
   "source": [
    "Synthesize dataset"
   ]
  },
  {
   "cell_type": "code",
   "execution_count": 30,
   "metadata": {},
   "outputs": [],
   "source": [
    "node_type = np.asarray([10, 100, 100, 1000])"
   ]
  },
  {
   "cell_type": "code",
   "execution_count": 43,
   "metadata": {},
   "outputs": [
    {
     "name": "stdout",
     "output_type": "stream",
     "text": [
      "[[0.00876 0.00878 0.00473 0.00168]\n",
      " [0.00473 0.00635 0.00368 0.00513]\n",
      " [0.00992 0.00225 0.0072  0.0009 ]\n",
      " [0.00217 0.00108 0.00081 0.00983]]\n"
     ]
    }
   ],
   "source": [
    "density = np.random.rand(node_type.shape[0], node_type.shape[0]) / 100\n",
    "print(density)"
   ]
  },
  {
   "cell_type": "code",
   "execution_count": 44,
   "metadata": {},
   "outputs": [],
   "source": [
    "adj = [[sp.random(x, y, density=d) for y, d in zip(node_type, d_list)] \n",
    "       for x, d_list in zip(node_type, density)]"
   ]
  },
  {
   "cell_type": "code",
   "execution_count": 45,
   "metadata": {},
   "outputs": [],
   "source": [
    "adj = sp.vstack([sp.hstack(x) for x in adj])"
   ]
  },
  {
   "cell_type": "code",
   "execution_count": 46,
   "metadata": {},
   "outputs": [],
   "source": [
    "adj = adj.tocsr()"
   ]
  },
  {
   "cell_type": "code",
   "execution_count": 47,
   "metadata": {},
   "outputs": [],
   "source": [
    "adj[adj!=0] = 1"
   ]
  },
  {
   "cell_type": "code",
   "execution_count": 48,
   "metadata": {},
   "outputs": [
    {
     "data": {
      "text/plain": [
       "<matplotlib.image.AxesImage at 0x7f44e0724f28>"
      ]
     },
     "execution_count": 48,
     "metadata": {},
     "output_type": "execute_result"
    },
    {
     "data": {
      "image/png": "[encoded data removed]",
      "text/plain": [
       "<Figure size 288x288 with 1 Axes>"
      ]
     },
     "metadata": {
      "needs_background": "light"
     },
     "output_type": "display_data"
    }
   ],
   "source": [
    "plt.matshow(adj.todense())"
   ]
  },
  {
   "cell_type": "code",
   "execution_count": 49,
   "metadata": {},
   "outputs": [
    {
     "data": {
      "text/plain": [
       "0.007423673246362953"
      ]
     },
     "execution_count": 49,
     "metadata": {},
     "output_type": "execute_result"
    }
   ],
   "source": [
    "adj.nnz / (adj.shape[0]*adj.shape[1])"
   ]
  },
  {
   "cell_type": "code",
   "execution_count": 50,
   "metadata": {},
   "outputs": [],
   "source": [
    "adj = adj + adj.T"
   ]
  },
  {
   "cell_type": "code",
   "execution_count": 51,
   "metadata": {},
   "outputs": [],
   "source": [
    "adj[adj!=0] = 1"
   ]
  },
  {
   "cell_type": "code",
   "execution_count": 52,
   "metadata": {
    "scrolled": true
   },
   "outputs": [
    {
     "data": {
      "text/plain": [
       "<matplotlib.image.AxesImage at 0x7f44e06791d0>"
      ]
     },
     "execution_count": 52,
     "metadata": {},
     "output_type": "execute_result"
    },
    {
     "data": {
      "image/png": "[encoded data removed]",
      "text/plain": [
       "<Figure size 288x288 with 1 Axes>"
      ]
     },
     "metadata": {
      "needs_background": "light"
     },
     "output_type": "display_data"
    }
   ],
   "source": [
    "plt.matshow(adj.todense())"
   ]
  },
  {
   "cell_type": "code",
   "execution_count": 53,
   "metadata": {},
   "outputs": [
    {
     "data": {
      "text/plain": [
       "0.014769482958814289"
      ]
     },
     "execution_count": 53,
     "metadata": {},
     "output_type": "execute_result"
    }
   ],
   "source": [
    "adj.nnz / (adj.shape[0]*adj.shape[1])"
   ]
  },
  {
   "cell_type": "code",
   "execution_count": null,
   "metadata": {},
   "outputs": [],
   "source": []
  },
  {
   "cell_type": "markdown",
   "metadata": {},
   "source": [
    "# Deepwalk를 위한 랜덤 워크 함수 GPU 가속화"
   ]
  },
  {
   "cell_type": "code",
   "execution_count": null,
   "metadata": {},
   "outputs": [],
   "source": [
    "with open(os.path.join('preprocess', 'yelp', 'adj.pickle'), 'rb') as f:\n",
    "    data = pickle.load(f)"
   ]
  },
  {
   "cell_type": "markdown",
   "metadata": {},
   "source": [
    "인접 리스트 데이터, 크기, 시작 인덱스 직렬화"
   ]
  },
  {
   "cell_type": "code",
   "execution_count": null,
   "metadata": {},
   "outputs": [],
   "source": [
    "def serialize_adj_indice(data):\n",
    "    adj_data = [list(data['adj_indice'][x]) for x in range(data['node_num'])]\n",
    "    adj_size = [len(x) for x in adj_data]\n",
    "    adj_data = [item for sublist in adj_data for item in sublist]\n",
    "    adj_start = [None] * data['node_num']\n",
    "    cnt = 0\n",
    "    for x in range(data['node_num']):\n",
    "        adj_start[x] = cnt\n",
    "        cnt += adj_size[x]\n",
    "    return adj_data, adj_size, adj_start"
   ]
  },
  {
   "cell_type": "code",
   "execution_count": null,
   "metadata": {},
   "outputs": [],
   "source": [
    "adj_data, adj_size, adj_start = serialize_adj_indice(data)"
   ]
  },
  {
   "cell_type": "markdown",
   "metadata": {},
   "source": [
    "텐서화"
   ]
  },
  {
   "cell_type": "code",
   "execution_count": null,
   "metadata": {},
   "outputs": [],
   "source": [
    "adj_data = torch.tensor(adj_data, dtype=torch.long)\n",
    "adj_size = torch.tensor(adj_size, dtype=torch.float)\n",
    "adj_start = torch.tensor(adj_start, dtype=torch.long)"
   ]
  },
  {
   "cell_type": "markdown",
   "metadata": {},
   "source": [
    "랜덤 워크 생성"
   ]
  },
  {
   "cell_type": "code",
   "execution_count": null,
   "metadata": {},
   "outputs": [],
   "source": [
    "def deepwalk(v, l, adj_data, adj_size, adj_start):\n",
    "    \"\"\"Random walk\n",
    "    \n",
    "    Args:\n",
    "        v (torch.LongTensor): [Batch_size] start index.\n",
    "        l (int): length of random walk.\n",
    "        adj_data (torch.LongTensor): [E] data bank for adjacency list.\n",
    "        adj_size (torch.FloatTensor): [V] degree for each node.\n",
    "        adj_start (torch.LongTensor): [V] start index for each node in `adj_data`.\n",
    "    Returns:\n",
    "        torch.LongTensor [L, B]\n",
    "    \"\"\"\n",
    "    walk = [None] * l\n",
    "    node = v\n",
    "    walk[0] = node\n",
    "\n",
    "    for i in range(1, l):\n",
    "        offset = torch.floor(torch.rand_like(node, dtype=torch.float) * adj_size[node]).long()\n",
    "        idx = adj_start[node] + offset\n",
    "        node = adj_data[idx]\n",
    "        walk[i] = node\n",
    "    return torch.stack(walk)"
   ]
  },
  {
   "cell_type": "code",
   "execution_count": null,
   "metadata": {},
   "outputs": [],
   "source": [
    "%time walk = deepwalk(torch.arange(10, dtype=torch.long), 100, adj_data, adj_size, adj_start)"
   ]
  },
  {
   "cell_type": "markdown",
   "metadata": {},
   "source": [
    "# Metapath2vec을 위한 랜덤 워크 GPU 가속화"
   ]
  },
  {
   "cell_type": "code",
   "execution_count": 2,
   "metadata": {},
   "outputs": [],
   "source": [
    "with open(os.path.join('preprocess', 'yelp', 'adj_type.pickle'), 'rb') as f:\n",
    "    data = pickle.load(f)"
   ]
  },
  {
   "cell_type": "code",
   "execution_count": null,
   "metadata": {
    "scrolled": true
   },
   "outputs": [],
   "source": [
    "data['type_interval']"
   ]
  },
  {
   "cell_type": "markdown",
   "metadata": {},
   "source": [
    "인접 리스트 데이터, 크기, 시작 인덱스 직렬화 - 타입별로 따로 관리"
   ]
  },
  {
   "cell_type": "code",
   "execution_count": 3,
   "metadata": {},
   "outputs": [],
   "source": [
    "def serialize_adj_indice(data):\n",
    "    type_order = list(data['type_interval'].keys())\n",
    "    adj_data = [data['adj_indice'][x] for x in range(data['node_num'])]\n",
    "    adj_data = [[list(x[y]) for y in type_order] for x in adj_data]\n",
    "    adj_size = [[len(y) for y in x] for x in adj_data]\n",
    "    adj_start = [[None]*len(type_order) for _ in range(data['node_num'])]\n",
    "    count = 0\n",
    "    for i in range(data['node_num']):\n",
    "        for j in range(len(type_order)):\n",
    "            adj_start[i][j] = count\n",
    "            count += adj_size[i][j]\n",
    "    adj_data = [item for sublist in adj_data for subsublist in sublist for item in subsublist]\n",
    "    return adj_data, adj_size, adj_start, type_order"
   ]
  },
  {
   "cell_type": "code",
   "execution_count": 4,
   "metadata": {},
   "outputs": [],
   "source": [
    "adj_data, adj_size, adj_start, type_order = serialize_adj_indice(data)"
   ]
  },
  {
   "cell_type": "markdown",
   "metadata": {},
   "source": [
    "텐서화"
   ]
  },
  {
   "cell_type": "code",
   "execution_count": 5,
   "metadata": {},
   "outputs": [],
   "source": [
    "adj_data = torch.tensor(adj_data, dtype=torch.long)\n",
    "adj_size = torch.tensor(adj_size, dtype=torch.float)\n",
    "adj_start = torch.tensor(adj_start, dtype=torch.long)"
   ]
  },
  {
   "cell_type": "markdown",
   "metadata": {},
   "source": [
    "랜덤 워크 생성"
   ]
  },
  {
   "cell_type": "code",
   "execution_count": null,
   "metadata": {},
   "outputs": [],
   "source": [
    "type_order"
   ]
  },
  {
   "cell_type": "code",
   "execution_count": null,
   "metadata": {},
   "outputs": [],
   "source": [
    "def metapathwalk(v, v_t, l, metapath, adj_data, adj_size, adj_start):\n",
    "    \"\"\"Random walk\n",
    "    \n",
    "    Args:\n",
    "        v (torch.LongTensor): [Batch_size] start index.\n",
    "        v_t (torch.LongTensor): [Batch_size] type of start node.\n",
    "        l (int): length of random walk.\n",
    "        metapath (torch.LongTensor)): metapath\n",
    "        adj_data (torch.LongTensor): [E] data bank for adjacency list.\n",
    "        adj_size (torch.FloatTensor): [V] degree for each node.\n",
    "        adj_start (torch.LongTensor): [V] start index for each node in `adj_data`.\n",
    "    Returns:\n",
    "        torch.LongTensor [L, B]\n",
    "    \"\"\"\n",
    "    walk = [None] * l\n",
    "    node = v\n",
    "    metapath_idx = torch.tensor([(metapath==x).nonzero()[0] for x in v_t], dtype=torch.long)\n",
    "    walk[0] = node\n",
    "\n",
    "    for i in range(1, l):\n",
    "        metapath_idx = (metapath_idx + 1) % metapath.shape[0]\n",
    "        adj_size_type = adj_size[node].gather(dim=1, index=metapath[metapath_idx].unsqueeze(1)).squeeze(1)\n",
    "        assert not torch.any(adj_size_type == 0)\n",
    "        \n",
    "        offset = torch.floor(torch.rand_like(node, dtype=torch.float) * adj_size_type).long()\n",
    "        \n",
    "        adj_start_type = adj_start[node].gather(dim=1, index=metapath[metapath_idx].unsqueeze(1)).squeeze(1)\n",
    "        idx = adj_start_type + offset\n",
    "        \n",
    "        node = adj_data[idx]\n",
    "        walk[i] = node\n",
    "    return torch.stack(walk)"
   ]
  },
  {
   "cell_type": "code",
   "execution_count": null,
   "metadata": {},
   "outputs": [],
   "source": [
    "def get_type(v, type_interval_dict, type_order):\n",
    "    for k, interval in type_interval_dict.items():\n",
    "        if interval[0]<= v and v<=interval[1]:\n",
    "            return type_order.index(k)\n",
    "    raise Exception\n",
    "\n",
    "metapath = 'URWRWRBRWRWR'\n",
    "metapath = torch.tensor([type_order.index(x) for x in metapath], dtype=torch.long)\n",
    "\n",
    "node = torch.randint(80000, size=(10,), dtype=torch.long)\n",
    "node_type = [get_type(x, data['type_interval'], type_order) for x in node]\n",
    "\n",
    "walk = metapathwalk(node, node_type, 100, metapath, adj_data, adj_size, adj_start)"
   ]
  },
  {
   "cell_type": "code",
   "execution_count": null,
   "metadata": {},
   "outputs": [],
   "source": [
    "%time walk = metapathwalk(node, node_type, 100, metapath, adj_data, adj_size, adj_start)"
   ]
  },
  {
   "cell_type": "markdown",
   "metadata": {},
   "source": [
    "# JUST를 위한 랜덤 워크 GPU 가속화"
   ]
  },
  {
   "cell_type": "code",
   "execution_count": null,
   "metadata": {},
   "outputs": [],
   "source": [
    "def get_type(v, type_interval_dict, type_order):\n",
    "    for k, interval in type_interval_dict.items():\n",
    "        if interval[0]<= v and v<=interval[1]:\n",
    "            return type_order.index(k)\n",
    "    raise Exception\n",
    "    \n",
    "node = torch.randint(80000, size=(10,), dtype=torch.long)\n",
    "node_type = torch.tensor([get_type(x, data['type_interval'], type_order) for x in node])"
   ]
  },
  {
   "cell_type": "code",
   "execution_count": null,
   "metadata": {},
   "outputs": [],
   "source": []
  },
  {
   "cell_type": "code",
   "execution_count": null,
   "metadata": {},
   "outputs": [],
   "source": [
    "que"
   ]
  },
  {
   "cell_type": "code",
   "execution_count": null,
   "metadata": {},
   "outputs": [],
   "source": [
    "alpha = 0.5"
   ]
  },
  {
   "cell_type": "code",
   "execution_count": null,
   "metadata": {},
   "outputs": [],
   "source": [
    "total_degree = adj_size[node].sum(dim=1, keepdim=True)\n",
    "homogeneous_degree = adj_size[node].gather(dim=1, index=node_type.unsqueeze(1))\n",
    "heterogeneous_degree = total_degree - homogeneous_degree\n",
    "\n",
    "prob_stay = torch.where(homogeneous_degree==0, torch.tensor(0.0), torch.where(heterogeneous_degree==0, torch.tensor(1.0), torch.tensor(alpha)))"
   ]
  },
  {
   "cell_type": "code",
   "execution_count": null,
   "metadata": {},
   "outputs": [],
   "source": [
    "stay = torch.bernoulli(prob_stay)"
   ]
  },
  {
   "cell_type": "code",
   "execution_count": null,
   "metadata": {},
   "outputs": [],
   "source": [
    "homogeneous = torch.zeros_like(adj_size[node])"
   ]
  },
  {
   "cell_type": "code",
   "execution_count": null,
   "metadata": {},
   "outputs": [],
   "source": [
    "homogeneous.scatter_(dim=1, index=node_type.unsqueeze(1), src=torch.tensor(1))"
   ]
  },
  {
   "cell_type": "code",
   "execution_count": null,
   "metadata": {},
   "outputs": [],
   "source": [
    "heterogeneous = (adj_size[node]>0).float()"
   ]
  },
  {
   "cell_type": "code",
   "execution_count": null,
   "metadata": {
    "scrolled": true
   },
   "outputs": [],
   "source": [
    "heterogeneous.scatter_(dim=1, index=node_type.unsqueeze(1), src=torch.tensor(0))"
   ]
  },
  {
   "cell_type": "code",
   "execution_count": null,
   "metadata": {},
   "outputs": [],
   "source": [
    "heterogeneous_tmp = heterogeneous.clone().detach()"
   ]
  },
  {
   "cell_type": "code",
   "execution_count": null,
   "metadata": {},
   "outputs": [],
   "source": [
    "que = [deque() for _ in range(node.shape[0])]"
   ]
  },
  {
   "cell_type": "code",
   "execution_count": null,
   "metadata": {},
   "outputs": [],
   "source": [
    "for i in range(node.shape[0]):\n",
    "    heterogeneous[i, que[i]] = 0"
   ]
  },
  {
   "cell_type": "code",
   "execution_count": null,
   "metadata": {},
   "outputs": [],
   "source": [
    "heterogeneous[heterogeneous.sum(dim=1)==0] = heterogeneous[heterogeneous.sum(dim=1)==0]"
   ]
  },
  {
   "cell_type": "code",
   "execution_count": null,
   "metadata": {},
   "outputs": [],
   "source": [
    "heterogeneous"
   ]
  },
  {
   "cell_type": "code",
   "execution_count": null,
   "metadata": {},
   "outputs": [],
   "source": [
    "weight = homogeneous * (stay) + heterogeneous * (1-stay)"
   ]
  },
  {
   "cell_type": "code",
   "execution_count": null,
   "metadata": {},
   "outputs": [],
   "source": [
    "next_type = torch.multinomial(weight, 1)"
   ]
  },
  {
   "cell_type": "code",
   "execution_count": null,
   "metadata": {
    "scrolled": true
   },
   "outputs": [],
   "source": [
    "next_type"
   ]
  },
  {
   "cell_type": "code",
   "execution_count": null,
   "metadata": {},
   "outputs": [],
   "source": [
    "def justwalk(v, v_t, l, alpha, que_size, adj_data, adj_size, adj_start):\n",
    "    \"\"\"Random walk\n",
    "    \n",
    "    Args:\n",
    "        v (torch.LongTensor): [Batch_size] start index.\n",
    "        v_t (torch.LongTensor): [Batch_size] type of start node.\n",
    "        l (int): length of random walk.\n",
    "        alpha (float): stay probability\n",
    "        que_size (int): the size of queue\n",
    "        adj_data (torch.LongTensor): [E] data bank for adjacency list.\n",
    "        adj_size (torch.FloatTensor): [V] degree for each node.\n",
    "        adj_start (torch.LongTensor): [V] start index for each node in `adj_data`.\n",
    "    Returns:\n",
    "        torch.LongTensor [L, B]\n",
    "    \"\"\"\n",
    "    walk = [None] * l\n",
    "    node = v\n",
    "    node_type = v_t\n",
    "    walk[0] = node\n",
    "    que = [deque() for _ in v.shape[0]]\n",
    "    stay_l = [1 for _ in v.shape[0]]\n",
    "    \n",
    "    for i in range(1, l):\n",
    "        total_degree = adj_size[node].sum(dim=1, keepdim=True)\n",
    "        homogeneous_degree = adj_size[node].gather(dim=1, index=node_type.unsqueeze(1))\n",
    "        heterogeneous_degree = total_degree - homogeneous_degree\n",
    "\n",
    "        prob_stay = torch.where(homogeneous_degree==0, \n",
    "                                torch.tensor(0.0), \n",
    "                                torch.where(heterogeneous_degree==0, \n",
    "                                            torch.tensor(1.0), \n",
    "                                            torch.tensor(alpha ** stay_l)))\n",
    "        stay = torch.bernoulli(prob_stay)\n",
    "        \n",
    "        homogeneous = torch.zeros_like(adj_size[node])\n",
    "        homogeneous.scatter_(dim=1, index=node_type.unsqueeze(1), src=torch.tensor(1))\n",
    "        \n",
    "        heterogeneous = (adj_size[node]>0).float()\n",
    "        heterogeneous.scatter_(dim=1, index=node_type.unsqueeze(1), src=torch.tensor(0))\n",
    "        heterogeneous_tmp = heterogeneous.clone().detach()\n",
    "        for i in range(node.shape[0]):\n",
    "            heterogeneous[i, que[i]] = 0\n",
    "        heterogeneous[heterogeneous.sum(dim=1)==0] = heterogeneous_tmp[heterogeneous.sum(dim=1)==0]\n",
    "        \n",
    "        weight = homogeneous * (stay) + heterogeneous * (1-stay)\n",
    "        node_type = torch.multinomial(weight, 1).squeeze(1)\n",
    "        \n",
    "        for i in range(node.shape[0]):\n",
    "            if stay\n",
    "        adj_size_type = adj_size[node].gather(dim=1, index=node_type.unsqueeze(1)).squeeze(1)\n",
    "        assert not torch.any(adj_size_type == 0)\n",
    "        \n",
    "        offset = torch.floor(torch.rand_like(node, dtype=torch.float) * adj_size_type).long()\n",
    "        \n",
    "        adj_start_type = adj_start[node].gather(dim=1, index=node_type.unsqueeze(1)).squeeze(1)\n",
    "        idx = adj_start_type + offset\n",
    "        \n",
    "        node = adj_data[idx]\n",
    "        walk[i] = node\n",
    "    return torch.stack(walk)"
   ]
  },
  {
   "cell_type": "code",
   "execution_count": null,
   "metadata": {},
   "outputs": [],
   "source": [
    "torch.where(adj_size[node].gather(dim=1, ))"
   ]
  },
  {
   "cell_type": "code",
   "execution_count": null,
   "metadata": {},
   "outputs": [],
   "source": [
    "(alpha**2) * (adj_size[node]>0).float()"
   ]
  },
  {
   "cell_type": "markdown",
   "metadata": {},
   "source": [
    "# Balanced2vec을 위한 랜덤 워크 GPU 가속화"
   ]
  },
  {
   "cell_type": "code",
   "execution_count": null,
   "metadata": {},
   "outputs": [],
   "source": [
    "A = torch.randint(1, 3, size=(4, 4)).float()\n",
    "node = torch.randint(80000, size=(10,), dtype=torch.long)\n",
    "node_type = torch.tensor([get_type(x, data['type_interval'], type_order) for x in node])"
   ]
  },
  {
   "cell_type": "code",
   "execution_count": null,
   "metadata": {},
   "outputs": [],
   "source": [
    "context_matrix = torch.zeros(10, len(type_order), len(type_order))\n",
    "go_vector = torch.zeros(10, len(type_order))\n",
    "back_vector = torch.zeros(10, len(type_order))"
   ]
  },
  {
   "cell_type": "code",
   "execution_count": null,
   "metadata": {
    "scrolled": true
   },
   "outputs": [],
   "source": [
    "node_type"
   ]
  },
  {
   "cell_type": "markdown",
   "metadata": {},
   "source": [
    "1번 행동"
   ]
  },
  {
   "cell_type": "code",
   "execution_count": null,
   "metadata": {
    "scrolled": false
   },
   "outputs": [],
   "source": [
    "_ = back_vector.scatter_(dim=1, index=node_type.unsqueeze(1), src=torch.tensor(0))"
   ]
  },
  {
   "cell_type": "markdown",
   "metadata": {},
   "source": [
    "2번 행동"
   ]
  },
  {
   "cell_type": "code",
   "execution_count": null,
   "metadata": {},
   "outputs": [],
   "source": [
    "node_type_stack = torch.stack([node_type]*len(type_order)).t().unsqueeze(2)\n",
    "back_vector += context_matrix.gather(dim=2, index=node_type_stack).squeeze(2)\n",
    "_ = context_matrix.scatter_(dim=2, index=node_type_stack, src=torch.tensor(0))\n",
    "_ = go_vector.scatter_(dim=1, index=node_type.unsqueeze(1), src=torch.tensor(0))"
   ]
  },
  {
   "cell_type": "markdown",
   "metadata": {},
   "source": [
    "3번 행동"
   ]
  },
  {
   "cell_type": "code",
   "execution_count": null,
   "metadata": {},
   "outputs": [],
   "source": [
    "node_type_stack = torch.stack([node_type]*len(type_order)).t().unsqueeze(1)\n",
    "src = torch.stack([A]*10).gather(dim=1, index=node_type_stack)\n",
    "_ = context_matrix.scatter_add_(dim=1, index=node_type_stack, src=src)\n",
    "go_vector += src.squeeze(1)"
   ]
  },
  {
   "cell_type": "markdown",
   "metadata": {},
   "source": [
    "4번 행동 및 샘플링"
   ]
  },
  {
   "cell_type": "code",
   "execution_count": null,
   "metadata": {},
   "outputs": [],
   "source": [
    "weight = go_vector + back_vector\n",
    "weight = weight * (adj_size[node] > 0).float()\n",
    "next_type = torch.multinomial(weight, 1)"
   ]
  },
  {
   "cell_type": "code",
   "execution_count": 6,
   "metadata": {},
   "outputs": [],
   "source": [
    "def balancewalk(v, v_t, l, A, t, adj_data, adj_size, adj_start):\n",
    "    \"\"\"Random walk\n",
    "    \n",
    "    Args:\n",
    "        v (torch.LongTensor): [Batch_size] start index.\n",
    "        v_t (torch.LongTensor): [Batch_size] type of start node.\n",
    "        l (int): length of random walk.\n",
    "        A (torch.FloatTensor)): [T, T] inverse training rate matrix.\n",
    "        t (int): number of type\n",
    "        adj_data (torch.LongTensor): [E] data bank for adjacency list.\n",
    "        adj_size (torch.FloatTensor): [V] degree for each node.\n",
    "        adj_start (torch.LongTensor): [V] start index for each node in `adj_data`.\n",
    "    Returns:\n",
    "        torch.LongTensor [L, B]\n",
    "    \"\"\"\n",
    "    walk = [None] * l\n",
    "    node = v\n",
    "    node_type = v_t\n",
    "    walk[0] = node\n",
    "    \n",
    "    # Initialize data structure\n",
    "    context_matrix = torch.zeros(v.shape[0], t, t)\n",
    "    go_vector = torch.zeros(v.shape[0], t)\n",
    "    back_vector = torch.zeros(v.shape[0], t)\n",
    "\n",
    "    for i in range(1, l):\n",
    "        # Process 1\n",
    "        back_vector.scatter_(dim=1, index=node_type.unsqueeze(1), src=torch.tensor(0))\n",
    "        \n",
    "        node_type_stack = torch.stack([node_type]*len(type_order)).t()\n",
    "        \n",
    "        # Process 2\n",
    "        back_vector += context_matrix.gather(dim=2, index=node_type_stack.unsqueeze(2)).squeeze(2)\n",
    "        context_matrix.scatter_(dim=2, index=node_type_stack.unsqueeze(2), src=torch.tensor(0))\n",
    "        go_vector.scatter_(dim=1, index=node_type.unsqueeze(1), src=torch.tensor(0))\n",
    "        \n",
    "        # Process 3\n",
    "        src = torch.stack([A]*v.shape[0]).gather(dim=1, index=node_type_stack.unsqueeze(1))\n",
    "        context_matrix.scatter_add_(dim=1, index=node_type_stack.unsqueeze(1), src=src)\n",
    "        go_vector += src.squeeze(1)\n",
    "        \n",
    "        # Process 4\n",
    "        weight = go_vector + back_vector\n",
    "        np.set_printoptions(precision=10000, suppress=False)\n",
    "        weight = weight * (adj_size[node] > 0).float()\n",
    "        node_type = torch.multinomial(weight, 1).squeeze(1)\n",
    "        \n",
    "        adj_size_type = adj_size[node].gather(dim=1, index=node_type.unsqueeze(1)).squeeze(1)\n",
    "        assert not torch.any(adj_size_type == 0)\n",
    "        \n",
    "        offset = torch.floor(torch.rand_like(node, dtype=torch.float) * adj_size_type).long()\n",
    "        \n",
    "        adj_start_type = adj_start[node].gather(dim=1, index=node_type.unsqueeze(1)).squeeze(1)\n",
    "        idx = adj_start_type + offset\n",
    "        \n",
    "        node = adj_data[idx]\n",
    "        walk[i] = node\n",
    "    return torch.stack(walk)"
   ]
  },
  {
   "cell_type": "code",
   "execution_count": 8,
   "metadata": {},
   "outputs": [],
   "source": [
    "def get_type(v, type_interval_dict, type_order):\n",
    "    for k, interval in type_interval_dict.items():\n",
    "        if interval[0]<= v and v<=interval[1]:\n",
    "            return type_order.index(k)\n",
    "    raise Exception\n",
    "\n",
    "#A = torch.randint(1, 3, size=(4, 4)).float()\n",
    "A = torch.tensor([[1, 10000, 1, 1], [10000, 1, 1, 1], [1, 1, 1, 1], [1, 1, 1, 1]]).float()\n",
    "node = torch.randint(80000, size=(1,), dtype=torch.long)\n",
    "node_type = torch.tensor([get_type(x, data['type_interval'], type_order) for x in node])"
   ]
  },
  {
   "cell_type": "code",
   "execution_count": null,
   "metadata": {},
   "outputs": [],
   "source": [
    "node_type"
   ]
  },
  {
   "cell_type": "code",
   "execution_count": 9,
   "metadata": {},
   "outputs": [
    {
     "name": "stdout",
     "output_type": "stream",
     "text": [
      "22.5 ms ± 1.95 ms per loop (mean ± std. dev. of 7 runs, 10 loops each)\n"
     ]
    }
   ],
   "source": [
    "%timeit walk = balancewalk(node, node_type, 100, A, len(type_order), adj_data, adj_size, adj_start)"
   ]
  },
  {
   "cell_type": "code",
   "execution_count": null,
   "metadata": {},
   "outputs": [],
   "source": [
    "walk = balancewalk(node, node_type, 100, A, len(type_order), adj_data, adj_size, adj_start)\n",
    "print((torch.tensor([[get_type(x, data['type_interval'], type_order) for x in b] for b in walk])==0).nonzero().shape[0],\n",
    "(torch.tensor([[get_type(x, data['type_interval'], type_order) for x in b] for b in walk])==1).nonzero().shape[0],\n",
    "(torch.tensor([[get_type(x, data['type_interval'], type_order) for x in b] for b in walk])==2).nonzero().shape[0],\n",
    "(torch.tensor([[get_type(x, data['type_interval'], type_order) for x in b] for b in walk])==3).nonzero().shape[0])"
   ]
  },
  {
   "cell_type": "code",
   "execution_count": null,
   "metadata": {},
   "outputs": [],
   "source": [
    "torch.tensor([[get_type(x, data['type_interval'], type_order) for x in b] for b in walk])"
   ]
  },
  {
   "cell_type": "code",
   "execution_count": null,
   "metadata": {},
   "outputs": [],
   "source": [
    "data['class']['T'] = np.full(data['type_interval']['T'][1]-data['type_interval']['T'][0]+1, fill_value=-1)"
   ]
  },
  {
   "cell_type": "code",
   "execution_count": null,
   "metadata": {},
   "outputs": [],
   "source": [
    "class_dict = np.concatenate((data['class']['A'], data['class']['T'], data['class']['V'], data['class']['P']), axis=0)"
   ]
  },
  {
   "cell_type": "code",
   "execution_count": null,
   "metadata": {},
   "outputs": [],
   "source": [
    "def get_class_list(walk, key):\n",
    "    walk = [x for x in walk if data['type_interval'][key][0]<=x and x<=data['type_interval'][key][1]]\n",
    "    return [class_dict[x] for x in walk]"
   ]
  },
  {
   "cell_type": "code",
   "execution_count": null,
   "metadata": {},
   "outputs": [],
   "source": [
    "get_class_list(walk, 'V')"
   ]
  },
  {
   "cell_type": "code",
   "execution_count": null,
   "metadata": {},
   "outputs": [],
   "source": [
    "type_str_dict = {x: i for i, x in enumerate(data['type_interval'].keys())}\n",
    "type_str_inverse_dict = {i: x for x, i in type_str_dict.items()}"
   ]
  },
  {
   "cell_type": "code",
   "execution_count": null,
   "metadata": {},
   "outputs": [],
   "source": [
    "possible_type_mask = torch.zeros(len(data['adj_indice'].keys()), 4)\n",
    "for k, v in data['adj_indice'].items():\n",
    "    for k2 in v.keys():\n",
    "        possible_type_mask[k, type_str_dict[k2]] = 1"
   ]
  },
  {
   "cell_type": "code",
   "execution_count": null,
   "metadata": {},
   "outputs": [],
   "source": [
    "adjacent_node_num_per_type = torch.zeros(data['node_num'], 4, dtype=torch.long)"
   ]
  },
  {
   "cell_type": "code",
   "execution_count": null,
   "metadata": {},
   "outputs": [],
   "source": [
    "for k, v in data['adj_indice'].items():\n",
    "    for k2, v2 in v.items():\n",
    "        adjacent_node_num_per_type[k, type_str_dict[k2]] = len(v2)"
   ]
  },
  {
   "cell_type": "code",
   "execution_count": null,
   "metadata": {},
   "outputs": [],
   "source": [
    "adjacent_node_num_per_type"
   ]
  },
  {
   "cell_type": "code",
   "execution_count": null,
   "metadata": {},
   "outputs": [],
   "source": [
    "start_idx = torch.zeros(data['node_num'], 4, dtype=torch.long)\n",
    "tmp = torch.zeros(4, dtype=torch.long)\n",
    "for i in range(data['node_num']):\n",
    "    start_idx[i, :] = tmp\n",
    "    tmp += adjacent_node_num_per_type[i]"
   ]
  },
  {
   "cell_type": "code",
   "execution_count": null,
   "metadata": {},
   "outputs": [],
   "source": [
    "packed_adj = [None] * 4\n",
    "for type_k, type_idx in type_str_dict.items():\n",
    "    packed_adj[type_idx] = [None] * data['node_num']\n",
    "    for k, v in data['adj_indice'].items():\n",
    "        packed_adj[type_idx][k] = torch.tensor(list(v[type_k]) if v.get(type_k) is not None else [], dtype=torch.long)\n",
    "    packed_adj[type_idx] = torch.cat(packed_adj[type_idx], dim=0)\n",
    "pad_packed_adj = nn.utils.rnn.pad_sequence(packed_adj)\n",
    "print(pad_packed_adj.shape)"
   ]
  },
  {
   "cell_type": "code",
   "execution_count": null,
   "metadata": {},
   "outputs": [],
   "source": [
    "\n",
    "def get(pad_packed_adj, start_idx, adjacent_node_num_per_type, node, idx, type_):\n",
    "    return pad_packed_adj[start_idx[node, type_]+idx, type_]\n"
   ]
  },
  {
   "cell_type": "code",
   "execution_count": null,
   "metadata": {
    "scrolled": false
   },
   "outputs": [],
   "source": [
    "get(pad_packed_adj, \n",
    "    start_idx, \n",
    "    adjacent_node_num_per_type, \n",
    "    torch.tensor([19999, 20000], dtype=torch.long), \n",
    "    torch.tensor([0, 0], dtype=torch.long), \n",
    "    torch.tensor([3, 1], dtype=torch.long))"
   ]
  },
  {
   "cell_type": "code",
   "execution_count": null,
   "metadata": {},
   "outputs": [],
   "source": [
    "type_attention = torch.from_numpy(np.asarray([[1, 1, 1, 1], [1, 1, 1, 1], [100, 1, 1, 1], [1, 1, 1, 1]])).cuda()"
   ]
  },
  {
   "cell_type": "code",
   "execution_count": null,
   "metadata": {},
   "outputs": [],
   "source": [
    "pad_packed_adj = pad_packed_adj.cuda()\n",
    "start_idx = start_idx.cuda()\n",
    "adjacent_node_num_per_type = adjacent_node_num_per_type.cuda()\n",
    "possible_type_mask = possible_type_mask.cuda()"
   ]
  },
  {
   "cell_type": "code",
   "execution_count": null,
   "metadata": {},
   "outputs": [],
   "source": [
    "import time\n",
    "\n",
    "class BalancedWalkFactory(object):\n",
    "    def __init__(self,\n",
    "                 possible_type_mask,\n",
    "                 adjacent_node_num_per_type,\n",
    "                 start_idx,\n",
    "                 pad_packed_adj,\n",
    "                 type_attention,\n",
    "                 type_str_dict):\n",
    "        self.possible_type_mask = possible_type_mask\n",
    "        self.adjacent_node_num_per_type = adjacent_node_num_per_type\n",
    "        self.start_idx = start_idx\n",
    "        self.pad_packed_adj = pad_packed_adj\n",
    "        self.type_attention = type_attention\n",
    "        self.type_str_dict = type_str_dict\n",
    "    \n",
    "    def to(self, device):\n",
    "        self.possible_type_mask = self.possible_type_mask.to(device)\n",
    "        self.adjacent_node_num_per_type = self.adjacent_node_num_per_type.to(device)\n",
    "        self.start_idx = self.start_idx.to(device)\n",
    "        self.pad_packed_adj = self.pad_packed_adj.to(device)\n",
    "        self.type_attention = self.type_attention.to(device)\n",
    "        return self\n",
    "        \n",
    "    def __call__(self, v, l):\n",
    "        batch_size = v.shape[0]\n",
    "        walk = v.new_zeros(l, batch_size, dtype=torch.long)\n",
    "        walk[0, :] = v\n",
    "\n",
    "        history = v.new_zeros(l, batch_size, 4, dtype=torch.long)\n",
    "        return_history = v.new_full((l, batch_size), fill_value=-1, dtype=torch.long)\n",
    "        to_prob = v.new_zeros(batch_size, 4, dtype=torch.long)\n",
    "\n",
    "        cur_type = v.new_tensor([self.type_str_dict[get_type(x, data['type_interval'])] for x in walk[0, :]], dtype=torch.long)\n",
    "\n",
    "        for i in range(1, l):\n",
    "            history[i-1, :, :] = type_attention[cur_type]\n",
    "            return_history[i-1, :] = cur_type\n",
    "            prob = history.sum(dim=0)\n",
    "            prob += to_prob\n",
    "            prob *= possible_type_mask[walk[i-1,:]].long()\n",
    "    \n",
    "            nxt_type = torch.multinomial(prob.float(), 1)\n",
    "            idx = torch.rand(batch_size).cuda()\n",
    "            size = torch.gather(adjacent_node_num_per_type[walk[i-1,:]], 1, nxt_type).squeeze()\n",
    "    \n",
    "            idx = torch.floor(idx * size.float()).long()\n",
    "    \n",
    "            walk[i, :] = get(pad_packed_adj, \n",
    "                             start_idx, \n",
    "                             adjacent_node_num_per_type, \n",
    "                             walk[i-1, :], \n",
    "                             idx, \n",
    "                             nxt_type.squeeze())\n",
    "            cur_type = nxt_type.squeeze()\n",
    "        \n",
    "            to_prob.scatter_(dim=1, index=nxt_type, src=torch.tensor(0))\n",
    "            for j in range(i):\n",
    "                to_prob.scatter_add_(dim=1, index=return_history[[j], :].t(), \n",
    "                                 src=torch.gather(history[j, :, :], dim=1, index=nxt_type))\n",
    "                history[j, :, :].scatter_(dim=1, index=nxt_type, src=torch.tensor(0))\n",
    "        return walk\n",
    "\n",
    "balanced_walk = BalancedWalkFactory(possible_type_mask,\n",
    "                                    adjacent_node_num_per_type,\n",
    "                                    start_idx,\n",
    "                                    pad_packed_adj,\n",
    "                                    torch.from_numpy(np.asarray([[1, 1, 1, 1], [1, 1, 1, 1], [100, 1, 1, 1], [1, 1, 1, 1]])),\n",
    "                                    type_str_dict)\n",
    "balanced_walk = balanced_walk.to(torch.device(\"cuda:0\"))\n",
    "\n",
    "start_time = time.time()\n",
    "\n",
    "for _ in range(5):\n",
    "    walk = balanced_walk(torch.arange(0, 100, 1).cuda(), 80)\n",
    "\n",
    "print('--- %s seconds ---' % (time.time() - start_time))\n",
    "print(walk.shape)"
   ]
  },
  {
   "cell_type": "code",
   "execution_count": null,
   "metadata": {},
   "outputs": [],
   "source": [
    "def balanced_walk(v, adj, type_interval, type_str_dict, type_str_inverse_dict, type_, l): \n",
    "    walk = [v] * l \n",
    "    from_que = deque()\n",
    "    to_prob = np.asarray([0] * 4)\n",
    "    for i in range(1, l): \n",
    "        cur_type = type_str_dict[get_type(walk[i-1], type_interval)]\n",
    "        possible_type = list(map(type_str_dict.get, adj[walk[i-1]].keys()))\n",
    "\n",
    "        # From que update\n",
    "        from_que.append((cur_type, np.copy(type_[cur_type])))\n",
    "\n",
    "        # Calculate probability\n",
    "        prob = np.asarray([0] * 4, dtype=np.float32)\n",
    "        for _, p in from_que:\n",
    "            prob += p\n",
    "        prob += to_prob\n",
    "\n",
    "        nxt_type = np.random.choice(possible_type, 1, p=prob[possible_type]/prob[possible_type].sum())[0]\n",
    "        walk[i] = np.random.choice(list(adj[walk[i-1]][type_str_inverse_dict[nxt_type]]), 1)[0]\n",
    "\n",
    "        # To prob update\n",
    "        to_prob[nxt_type] = 0 \n",
    "        for return_type, p in from_que:\n",
    "            to_prob[return_type] += p[nxt_type]\n",
    "            p[nxt_type] = 0 \n",
    "\n",
    "        while len(from_que) > 0:\n",
    "            if np.all(from_que[0]==0):\n",
    "                from_que.popleft()\n",
    "            else:\n",
    "                break\n",
    "    return walk"
   ]
  },
  {
   "cell_type": "code",
   "execution_count": null,
   "metadata": {},
   "outputs": [],
   "source": [
    "walk = walk.cpu().numpy()"
   ]
  },
  {
   "cell_type": "code",
   "execution_count": null,
   "metadata": {},
   "outputs": [],
   "source": []
  },
  {
   "cell_type": "code",
   "execution_count": null,
   "metadata": {},
   "outputs": [],
   "source": [
    "count_df_list = []\n",
    "\n",
    "for i in range(1000):\n",
    "    walk = balanced_walk(1, \n",
    "                     data['adj_indice'], \n",
    "                     data['type_interval'], \n",
    "                     type_str_dict,\n",
    "                         type_str_inverse_dict,\n",
    "                     np.asarray([[1, 1, 1, 1], [1, 1, 1, 1], [100, 1, 1, 1], [1, 1, 1, 1]]), \n",
    "                     40)\n",
    "    df = pd.DataFrame({'walk': walk, 'class': [class_dict[x] for x in walk], 'type': [get_type(x, data['type_interval']) for x in walk]})\n",
    "    count_df_list.append(df.groupby('type').count())\n",
    "    "
   ]
  },
  {
   "cell_type": "code",
   "execution_count": null,
   "metadata": {
    "scrolled": true
   },
   "outputs": [],
   "source": [
    "#walk = walk[:, 0].cpu().numpy()\n",
    "df = pd.DataFrame({'walk': walk, 'class': [class_dict[x] for x in walk], 'type': [get_type(x, data['type_interval']) for x in walk]})\n",
    "\n",
    "    "
   ]
  },
  {
   "cell_type": "code",
   "execution_count": null,
   "metadata": {},
   "outputs": [],
   "source": [
    "count_df_list = []\n",
    "count_df_list.append(df.groupby('type').count())"
   ]
  },
  {
   "cell_type": "code",
   "execution_count": null,
   "metadata": {},
   "outputs": [],
   "source": [
    "pd.concat(count_df_list).groupby('type').sum()"
   ]
  },
  {
   "cell_type": "code",
   "execution_count": null,
   "metadata": {},
   "outputs": [],
   "source": [
    "df"
   ]
  },
  {
   "cell_type": "code",
   "execution_count": null,
   "metadata": {},
   "outputs": [],
   "source": [
    "df[df['type']=='P']"
   ]
  },
  {
   "cell_type": "code",
   "execution_count": null,
   "metadata": {},
   "outputs": [],
   "source": []
  },
  {
   "cell_type": "code",
   "execution_count": null,
   "metadata": {},
   "outputs": [],
   "source": []
  }
 ],
 "metadata": {
  "kernelspec": {
   "display_name": "Python 3",
   "language": "python",
   "name": "python3"
  },
  "language_info": {
   "codemirror_mode": {
    "name": "ipython",
    "version": 3
   },
   "file_extension": ".py",
   "mimetype": "text/x-python",
   "name": "python",
   "nbconvert_exporter": "python",
   "pygments_lexer": "ipython3",
   "version": "3.7.1"
  }
 },
 "nbformat": 4,
 "nbformat_minor": 2
}
